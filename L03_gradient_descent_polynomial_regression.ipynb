{
  "cells": [
    {
      "cell_type": "code",
      "execution_count": null,
      "metadata": {
        "id": "FZEco2HK6D57"
      },
      "outputs": [],
      "source": [
        "import numpy as np\n",
        "import pandas as pd\n",
        "from matplotlib import pyplot as plt"
      ]
    },
    {
      "cell_type": "code",
      "execution_count": null,
      "metadata": {
        "id": "a3nCUqopXHwv"
      },
      "outputs": [],
      "source": [
        "RANDOM_SEED = 0x0"
      ]
    },
    {
      "cell_type": "markdown",
      "metadata": {
        "id": "jjTkUw7BWulH"
      },
      "source": [
        "# Lab 03: Gradient Descent and Polynomial Regression"
      ]
    },
    {
      "cell_type": "markdown",
      "metadata": {
        "id": "gNnZUk36Xz7_"
      },
      "source": [
        "For the first task, we will work with synthetic univariate data. This is the same data as in the previous Lab.\n",
        "We generate $100$ features $x_i \\in [-1, 1]$ as `x` and a regression target `y1`."
      ]
    },
    {
      "cell_type": "code",
      "execution_count": null,
      "metadata": {
        "id": "Ojta777H2ulb"
      },
      "outputs": [],
      "source": [
        "data_rng = np.random.default_rng(RANDOM_SEED)\n",
        "n = 100\n",
        "x = 2 * data_rng.random(n) - 1  # create n points between -1 and 1\n",
        "\n",
        "# setup synthetic linear data\n",
        "true_offset = 0.5\n",
        "true_slope = 1.25\n",
        "noise = data_rng.normal(loc=0., scale=0.25, size=(n,))\n",
        "\n",
        "y1 = true_offset + true_slope * x + noise"
      ]
    },
    {
      "cell_type": "markdown",
      "metadata": {
        "id": "_ww1rAls1AN-"
      },
      "source": [
        "This is what the data looks like:"
      ]
    },
    {
      "cell_type": "code",
      "execution_count": null,
      "metadata": {
        "id": "MxYMdhfxyYAd"
      },
      "outputs": [],
      "source": [
        "plt.scatter(x, y1)\n",
        "plt.xlabel(\"x\")\n",
        "plt.ylabel(\"y1\")\n",
        "plt.show()"
      ]
    },
    {
      "cell_type": "markdown",
      "metadata": {
        "id": "YL31gChVqLpC"
      },
      "source": [
        "### ðŸ“¢ Task 1A (3 points)ðŸ“¢\n",
        "\n",
        "In class you have seen that, instead of using the closed form solutions, we can also estimate the parameters $\\theta_i$ of the linear regression models by using Gradient Descent.\n",
        "\n",
        "For the univariate linear regression model, the stochastic gradient descent updates (from step t to t+1) look like this:\n",
        "* $\\theta_{0}^{(t+1)} = \\theta_{0}^{(t)} - \\alpha (\\theta_{0}^{(t)} + \\theta_{1}^{(t)} x_t - y_t)$\n",
        "* $\\theta_{1}^{(t+1)} = \\theta_{1}^{(t)} - \\alpha (\\theta_{0}^{(t)} + \\theta_{1}^{(t)} x_t - y_t) x_t$\n",
        "\n",
        "Here $\\alpha$ is the learning rate, and $(x_t, y_t)$ is the data point sampled\n",
        "at time $t$.\n",
        "\n",
        "\n",
        "In the following cell, implement the `.fit` and `.predict` methods:\n",
        "* In the `.predict` method, apply the model to the input `x`.\n",
        "* In the `.fit` method, implement the update equations for\n",
        "$\\theta_0$ and $\\theta_1$."
      ]
    },
    {
      "cell_type": "code",
      "execution_count": null,
      "metadata": {
        "id": "wJMHvQmXmVKr"
      },
      "outputs": [],
      "source": [
        "class SGDUnivariateLinearRegression:\n",
        "\n",
        "  def __init__(self):\n",
        "    self.theta_0: float = 0.\n",
        "    self.theta_1: float = 0.\n",
        "    self.rng = np.random.default_rng(RANDOM_SEED)\n",
        "\n",
        "  def predict(self, x):\n",
        "    y = self.theta_0 + self.theta_1 * x\n",
        "    return y  \n",
        "\n",
        "\n",
        "  def fit(self, x, y, n_iter: int = 100, learning_rate: float = 1.0):\n",
        "    for t in range(n_iter):\n",
        "      sample_ix = self.rng.integers(0, len(x))\n",
        "\n",
        "      xt = x[sample_ix]\n",
        "      yt = y[sample_ix]\n",
        "\n",
        "      # TODO: update self.theta_0 and self.theta_1 SIMULTANEOUSLY (!!!) according to their update equations\n",
        "      error = (self.theta_0 + self.theta_1 * xt) - yt\n",
        "      self.theta_0 -= learning_rate * error\n",
        "      self.theta_1 -= learning_rate * error * xt\n",
        "\n",
        "    return self"
      ]
    },
    {
      "cell_type": "markdown",
      "metadata": {
        "id": "i_zwIMN3INHh"
      },
      "source": [
        "ðŸ“¢ **<mark>On Moodle</mark>** ðŸ“¢\n",
        "\n",
        "* Hand in your code from the cell above."
      ]
    },
    {
      "cell_type": "markdown",
      "metadata": {
        "id": "MHLBmTm4vK9p"
      },
      "source": [
        "### ðŸ“¢ Task 1B (2 points)ðŸ“¢\n",
        "\n",
        "Run SGD for `x` and the target `y1` and compute the mean squared error (MSE).\n",
        "The MSE is defined as: $\\frac{1}{n}\\sum_{i=1}^{n} (\\hat{y}_i - y_i)^2$, where\n",
        "$\\hat{y}$ are the model predictions.\n",
        "\n",
        "* Create an instance of the class `SGDUnivariateLinearRegression`\n",
        "* fit the model using its `.fit` method\n",
        "* get the predicted values, using `.predict`\n",
        "* implement the `mse` function\n",
        "* compute the MSE of your predictions"
      ]
    },
    {
      "cell_type": "code",
      "execution_count": null,
      "metadata": {
        "id": "CZ1szyQhK9so"
      },
      "outputs": [],
      "source": [
        "def mse(y_pred, y_true):\n",
        "  #TODO\n",
        "  return np.mean((y_pred - y_true) ** 2)\n"
      ]
    },
    {
      "cell_type": "code",
      "execution_count": null,
      "metadata": {
        "id": "V35vBU5Yti8Z"
      },
      "outputs": [],
      "source": [
        "# TODO: implement fit an predict\n",
        "model = SGDUnivariateLinearRegression()\n",
        "model.fit(x, y1, n_iter=1000, learning_rate=0.01)\n",
        "y_pred = model.predict(x)\n",
        "\n",
        "mse_value = mse(y_pred, y1)\n",
        "print(f\"Mean Squared Error: {mse_value}\")"
      ]
    },
    {
      "cell_type": "markdown",
      "metadata": {
        "id": "n_j0ybGFIoBE"
      },
      "source": [
        "ðŸ“¢ **<mark>On Moodle</mark>** ðŸ“¢\n",
        "* Report the resulting Mean Squared Error"
      ]
    },
    {
      "cell_type": "markdown",
      "metadata": {
        "id": "MOFuSEHJn_ag"
      },
      "source": [
        "# Result\n",
        "\n",
        "Mean Squared Error: 0.625331533719449"
      ]
    },
    {
      "cell_type": "markdown",
      "metadata": {
        "id": "60862LLY2ZGf"
      },
      "source": [
        "If you want to plot the resulting model, you can use the following function:"
      ]
    },
    {
      "cell_type": "code",
      "execution_count": null,
      "metadata": {
        "id": "T0eKDuRt1YOF"
      },
      "outputs": [],
      "source": [
        "def plot_model(x, y_pred, y_true, title):\n",
        "  plt.scatter(x, y_true)\n",
        "  plt.plot(x, y_pred, c=\"r\")\n",
        "  plt.xlabel(\"x\")\n",
        "  plt.ylabel(\"y\")\n",
        "  plt.title(title)\n",
        "  plt.show()\n",
        "\n",
        "plot_model(x, y_pred, y1, \"Model of Gradient Descent for y1\")"
      ]
    },
    {
      "cell_type": "markdown",
      "metadata": {
        "id": "hSsE1o6GwA3K"
      },
      "source": [
        "### ðŸ“¢ Task 1C (4 points) ðŸ“¢\n",
        "\n",
        "You will now plot the learning curves of gradient descent for different learning rates $\\alpha$.\n",
        "A learning curves shows how a model's performance changes with increasing number of update steps.\n",
        "In our case we will plot the model's MSE as a function of the number of update\n",
        "steps `n_iter` for different values of `learning_rate`.\n"
      ]
    },
    {
      "cell_type": "markdown",
      "metadata": {
        "id": "x6nqOoOpzmMv"
      },
      "source": [
        "For comparison, we first implement the closed form for univariate regression from previous lab:"
      ]
    },
    {
      "cell_type": "code",
      "execution_count": null,
      "metadata": {
        "id": "gjK-QunEzkZF"
      },
      "outputs": [],
      "source": [
        "class UnivariateLinearRegression:\n",
        "\n",
        "  def __init__(self):\n",
        "    self.theta_0: float = 0.\n",
        "    self.theta_1: float = 0.\n",
        "\n",
        "  def predict(self, x):\n",
        "    return self.theta_0 + self.theta_1 * x\n",
        "\n",
        "  def fit(self, x, y):\n",
        "    mean_x = np.mean(x)\n",
        "    mean_y = np.mean(y)\n",
        "\n",
        "    cent_x = x - mean_x\n",
        "    cent_y = y - mean_y\n",
        "\n",
        "    theta_1 = np.sum(cent_x * cent_y) / np.sum(cent_x * cent_x)\n",
        "    theta_0 = mean_y - theta_1 * mean_x\n",
        "\n",
        "    self.theta_1 = theta_1\n",
        "    self.theta_0 = theta_0\n",
        "\n",
        "    return self"
      ]
    },
    {
      "cell_type": "code",
      "execution_count": null,
      "metadata": {
        "id": "M33V17233Ur7"
      },
      "outputs": [],
      "source": [
        "closed_form = UnivariateLinearRegression()\n",
        "y_pred = closed_form.fit(x, y1).predict(x)\n",
        "\n",
        "\n",
        "plot_model(x, y_pred, y1, \"Model of Gradient Descent for y1\")"
      ]
    },
    {
      "cell_type": "markdown",
      "metadata": {
        "id": "j6W3hr76JKvD"
      },
      "source": [
        "\n",
        "In the following cell we setup most of the scaffold to create learning curves. A learning curve contains the MSE for different numbers of iterations, i.e. different number of updates of the parameters in Î¸.\n",
        "\n",
        "We will draw learning curves for different values of learning rate Î± (don't get confused with the duplicate usage of \"learning\" here. The first refers to the improvement of MSE over number of iterations, while the second influences how much we change values in Î¸ in each step).\n",
        "\n",
        "Follow the instructions in the comments to finish the plots."
      ]
    },
    {
      "cell_type": "code",
      "execution_count": null,
      "metadata": {
        "id": "4Rr5ix7LNISB"
      },
      "outputs": [],
      "source": [
        "n_iters = [50, 100, 200, 500, 1000, 2000]\n",
        "learning_rates = [1., .1, .01]\n",
        "\n",
        "# we plot the MSE achieved by the closed form model as a reference\n",
        "closed_form = UnivariateLinearRegression()\n",
        "closed_form.fit(x, y1)\n",
        "mse_base = mse(y_pred=closed_form.predict(x), y_true=y1)\n",
        "plt.plot(n_iters, np.ones_like(n_iters) * mse_base, label=\"closed form\", linestyle='--', c='b')\n",
        "\n",
        "for alpha in learning_rates:\n",
        "  mses = []\n",
        "  for n_iter in n_iters:\n",
        "    # fit a SGDUnivariateLinearRegression model using n_iter=n_iter and\n",
        "    # learning_rate=alpha\n",
        "    # compute its mse and append the mse value to the mses list\n",
        "\n",
        "    # replace with mse calculation\n",
        "    model = SGDUnivariateLinearRegression()\n",
        "    model.fit(x, y1, n_iter=n_iter, learning_rate=alpha)\n",
        "    y_pred = model.predict(x)\n",
        "    mse_ = mse(y_pred, y1)\n",
        "    mses.append(mse_)\n",
        "  plt.plot(n_iters, mses, label=f\"alpha = {alpha:.2f}\")\n",
        "\n",
        "plt.xlabel(\"n_iter\")\n",
        "plt.ylabel(\"MSE\")\n",
        "plt.legend()\n",
        "plt.show()"
      ]
    },
    {
      "cell_type": "markdown",
      "metadata": {
        "id": "SmCkMMJyEEgV"
      },
      "source": [
        "ðŸ“¢ **<mark>On Moodle</mark>** ðŸ“¢\n",
        "\n",
        "* The final plot containing the 3 learning curves\n",
        "* A short (2-3 sentences) interpretation of the curves: why do you think they look the way they do? Can you draw any conclusions?\n",
        "\n",
        "In case you were not able to arrive at the final plot:\n",
        "\n",
        "* include screenshots of the code you wrote so we can assign partial credit\n",
        "\n",
        "\n"
      ]
    },
    {
      "cell_type": "markdown",
      "metadata": {
        "id": "LCeyr6Twf5N4"
      },
      "source": [
        "![image.png](data:image/png;base64,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)"
      ]
    },
    {
      "cell_type": "markdown",
      "metadata": {
        "id": "QSicRQdNf9Td"
      },
      "source": [
        "# Interpretation\n",
        "\n",
        "The curves for alpha = 0.01 and alpha = 0.10 show, that with more iterations, the MSE decreases for the learning rate. They converge relatively quickly. For some reason if alpha = 1.00 the curve first acts as expected, but begins linearly increasing again after 1000 iterations. I don't know why."
      ]
    },
    {
      "cell_type": "markdown",
      "metadata": {
        "id": "Ia9s_Q-KXf0T"
      },
      "source": [
        "# TASK 2: Polynomial Regression"
      ]
    },
    {
      "cell_type": "markdown",
      "metadata": {
        "id": "VV0Z3OdeXpha"
      },
      "source": [
        "We now switch to polynomial regression. First, let's create and explore some new synthetic data for this task:"
      ]
    },
    {
      "cell_type": "code",
      "execution_count": null,
      "metadata": {
        "id": "nb5WsezldFla"
      },
      "outputs": [],
      "source": [
        "# set the random seed to an integer, so that everyone has the same data to work with\n",
        "np.random.seed(seed=RANDOM_SEED)\n",
        "# create predictor variable that has a standard normal distribution, and reshape it in order to use it for the model training\n",
        "x = np.random.normal(0, 1, 100).reshape(-1, 1)\n",
        "# create target variable\n",
        "y = 3*x**3 + 2*x**2 + x + np.random.normal(0, 10, 100).reshape(-1, 1)"
      ]
    },
    {
      "cell_type": "markdown",
      "metadata": {
        "id": "E65IxT1Bwpmk"
      },
      "source": [
        "Visualise the data"
      ]
    },
    {
      "cell_type": "code",
      "execution_count": null,
      "metadata": {
        "id": "nCZgTYP3fZe7"
      },
      "outputs": [],
      "source": [
        "plt.scatter(x, y)\n",
        "plt.show()"
      ]
    },
    {
      "cell_type": "markdown",
      "metadata": {
        "id": "Cx8aSpUnJCI7"
      },
      "source": [
        "First, we try to fit a *Linear* Regression model to the data.\n",
        "\n",
        "For this, we first split the data into a train set and a test set (80% train, 20% test data)."
      ]
    },
    {
      "cell_type": "code",
      "execution_count": null,
      "metadata": {
        "id": "ti7myWk7KS8Z"
      },
      "outputs": [],
      "source": [
        "from sklearn.model_selection import train_test_split\n",
        "X_train, X_test, y_train, y_test = train_test_split(x, y, test_size=0.2, random_state=RANDOM_SEED)"
      ]
    },
    {
      "cell_type": "markdown",
      "metadata": {
        "id": "RFSaakYLJuK7"
      },
      "source": [
        "## Task 2A (1 point)\n",
        "1. Apply Linear Regression on the data and predict y values for training set as well for the test set."
      ]
    },
    {
      "cell_type": "code",
      "execution_count": null,
      "metadata": {
        "id": "Ez6t4Q4P82Qo"
      },
      "outputs": [],
      "source": [
        "from sklearn.linear_model import LinearRegression\n",
        "from sklearn.metrics import mean_squared_error\n",
        "\n",
        "# Create and train the linear regression model\n",
        "linear_model = LinearRegression()\n",
        "linear_model.fit(X_train, y_train)\n",
        "\n",
        "# Predict y values for training and test sets\n",
        "y_train_pred = linear_model.predict(X_train)\n",
        "y_test_pred = linear_model.predict(X_test)\n",
        "\n",
        "# Calculate MSE for training and test data\n",
        "mse_train = mean_squared_error(y_train, y_train_pred)\n",
        "mse_test = mean_squared_error(y_test, y_test_pred)"
      ]
    },
    {
      "cell_type": "markdown",
      "metadata": {
        "id": "P1k6VBGk8yI6"
      },
      "source": [
        "2. Calculate MSE for training as well as for test data."
      ]
    },
    {
      "cell_type": "code",
      "execution_count": null,
      "metadata": {
        "id": "qJGjXK8aKD8q"
      },
      "outputs": [],
      "source": [
        "\n",
        "from sklearn.metrics import mean_squared_error\n",
        "\n",
        "# TODO\n",
        "\n",
        "# Calculate MSE for training and test data\n",
        "mse_train = mean_squared_error(y_train, y_train_pred)\n",
        "mse_test = mean_squared_error(y_test, y_test_pred)\n",
        "\n",
        "print(f\"MSE of training data: {mse_train}\")\n",
        "print(f\"MSE of test data: {mse_test}\")"
      ]
    },
    {
      "cell_type": "markdown",
      "metadata": {
        "id": "T0VOmhngKEQL"
      },
      "source": [
        "3. Visualize the model. Plot all the data points als well as the regression model when applied to the training set and to the test set (in plt.scatter, you can set the color of points e.g. to red using \" color='r' \")."
      ]
    },
    {
      "cell_type": "code",
      "execution_count": null,
      "metadata": {
        "id": "yLwMEWirLLBA"
      },
      "outputs": [],
      "source": [
        "# TODO\n",
        "\n",
        "plt.scatter(X_train, y_train, color='blue', label='Training data')\n",
        "plt.scatter(X_test, y_test, color='red', label='Test data')\n",
        "plt.plot(X_train, y_train_pred, color='green', label='Linear model (train)')\n",
        "plt.plot(X_test, y_test_pred, color='orange', label='Linear model (test)')\n",
        "plt.xlabel(\"x\")\n",
        "plt.ylabel(\"y\")\n",
        "plt.legend()\n",
        "plt.show()"
      ]
    },
    {
      "cell_type": "markdown",
      "metadata": {
        "id": "tC6BqZC5Pcja"
      },
      "source": [
        "ðŸ“¢ **<mark>On Moodle</mark>** ðŸ“¢\n",
        "\n",
        "Upload\n",
        "* your scatter plot"
      ]
    },
    {
      "cell_type": "markdown",
      "metadata": {
        "id": "zwsmpB3oMJZf"
      },
      "source": [
        "## Task 2B (2 points)\n",
        "\n",
        "You will now investigate how well polynomial regression with a polynomial of degree 2 can solve the task.\n",
        "\n",
        "\n"
      ]
    },
    {
      "cell_type": "markdown",
      "metadata": {
        "id": "Mqj9E-PQErR-"
      },
      "source": [
        "Recall that for polynomial regression, we introduce artificial variables $z_i$ and a new hypothesis $h(z) = \\theta_0 z_0 + \\theta_1 z_1 + \\theta_2 z_2 + \\theta_3 z_3 ...$, where each $z_i$ is a polynomial in $x$. One of the simplest hypothesis is quadratic, where we have $h(z) = \\theta_0 z_0 + \\theta_1 z_1 + \\theta_2 z_2$ with $z_0 = 1, z_1 = x$ and $z_2 = x^2$.\n",
        "\n",
        "In the following cell, implement polynomial regression with the quadratic hypothesis above, and plot the result."
      ]
    },
    {
      "cell_type": "code",
      "execution_count": null,
      "metadata": {
        "id": "dBRl5Yu5F5Cr"
      },
      "outputs": [],
      "source": [
        "# TODO\n",
        "\n",
        "# Transform the data to include polynomial features of degree 2\n",
        "poly_features = PolynomialFeatures(degree=2)\n",
        "X_train_poly = poly_features.fit_transform(X_train)\n",
        "X_test_poly = poly_features.fit_transform(X_test)\n",
        "\n",
        "# Create and train the polynomial regression model\n",
        "poly_model = LinearRegression()\n",
        "poly_model.fit(X_train_poly, y_train)\n",
        "\n",
        "# Predict y values for training and test sets\n",
        "y_train_pred_poly = poly_model.predict(X_train_poly)\n",
        "y_test_pred_poly = poly_model.predict(X_test_poly)\n",
        "\n",
        "# Calculate MSE for training and test data\n",
        "mse_train_poly = mean_squared_error(y_train, y_train_pred_poly)\n",
        "mse_test_poly = mean_squared_error(y_test, y_test_pred_poly)"
      ]
    },
    {
      "cell_type": "markdown",
      "metadata": {
        "id": "GF5b2e6aJmfl"
      },
      "source": [
        "Plot the result\n"
      ]
    },
    {
      "cell_type": "code",
      "execution_count": null,
      "metadata": {
        "id": "9aZe6xHFJphT"
      },
      "outputs": [],
      "source": [
        "# TODO\n",
        "\n",
        "plt.scatter(X_train, y_train, color='blue', label='Training data')\n",
        "plt.scatter(X_test, y_test, color='red', label='Test data')\n",
        "plt.plot(X_train, y_train_pred_poly, color='green', label='Polynomial model (train)')\n",
        "plt.plot(X_test, y_test_pred_poly, color='orange', label='Polynomial model (test)')\n",
        "plt.xlabel(\"x\")\n",
        "plt.ylabel(\"y\")\n",
        "plt.legend()\n",
        "plt.show()"
      ]
    },
    {
      "cell_type": "markdown",
      "metadata": {
        "id": "zZjSeX5EE6Oh"
      },
      "source": [
        "Instead of implementing the polynomial transformation by hand, we can use [PolynomialFeatures.fit_transform](https://scikit-learn.org/stable/modules/preprocessing.html#polynomial-features) from sklearn, which generates the new features automatically.\n",
        "\n",
        "1. Transform the data accordingly to describe polynomial distribution of degree=2\n",
        "2. Train a Linear Regression model on polynomial data\n",
        "3. Make predictions for training data\n",
        "4. Make predictions for test data\n",
        "5. Calculate MSE for training as well as test data"
      ]
    },
    {
      "cell_type": "code",
      "execution_count": null,
      "metadata": {
        "id": "oxni0o041MYH"
      },
      "outputs": [],
      "source": [
        "from sklearn.preprocessing import PolynomialFeatures\n",
        "\n",
        "# TODO\n",
        "\n",
        "# Transform the data to include polynomial features of degree 2\n",
        "poly_features = PolynomialFeatures(degree=2)\n",
        "X_train_poly = poly_features.fit_transform(X_train)\n",
        "X_test_poly = poly_features.fit_transform(X_test)\n",
        "\n",
        "# Create and train the polynomial regression model\n",
        "poly_model = LinearRegression()\n",
        "poly_model.fit(X_train_poly, y_train)\n",
        "\n",
        "# Predict y values for training and test sets\n",
        "y_train_pred_poly = poly_model.predict(X_train_poly)\n",
        "y_test_pred_poly = poly_model.predict(X_test_poly)\n",
        "\n",
        "# Calculate MSE for training and test data\n",
        "mse_train_poly = mean_squared_error(y_train, y_train_pred_poly)\n",
        "mse_test_poly = mean_squared_error(y_test, y_test_pred_poly)\n",
        "\n",
        "print(f\"MSE of training data: {mse_train_poly}\")\n",
        "print(f\"MSE of test data: {mse_test_poly}\")"
      ]
    },
    {
      "cell_type": "markdown",
      "metadata": {
        "id": "nhbIv-toOFoV"
      },
      "source": [
        "Did it perform better than Linear Regression? Visualize the results."
      ]
    },
    {
      "cell_type": "code",
      "execution_count": null,
      "metadata": {
        "id": "yFNrIwDuOUXo"
      },
      "outputs": [],
      "source": [
        "# TODO\n",
        "\n",
        "degrees = range(1, 11)\n",
        "mse_train_values = []\n",
        "mse_test_values = []\n",
        "\n",
        "for degree in degrees:\n",
        "    poly_features = PolynomialFeatures(degree=degree)\n",
        "    X_train_poly = poly_features.fit_transform(X_train)\n",
        "    X_test_poly = poly_features.fit_transform(X_test)\n",
        "\n",
        "    poly_model = LinearRegression()\n",
        "    poly_model.fit(X_train_poly, y_train)\n",
        "\n",
        "    y_train_pred_poly = poly_model.predict(X_train_poly)\n",
        "    y_test_pred_poly = poly_model.predict(X_test_poly)\n",
        "\n",
        "    mse_train_poly = mean_squared_error(y_train, y_train_pred_poly)\n",
        "    mse_test_poly = mean_squared_error(y_test, y_test_pred_poly)\n",
        "\n",
        "    mse_train_values.append(mse_train_poly)\n",
        "    mse_test_values.append(mse_test_poly)\n",
        "\n",
        "plt.plot(degrees, mse_train_values, label='MSE Train')\n",
        "plt.plot(degrees, mse_test_values, label='MSE Test')\n",
        "plt.xlabel('Polynomial Degree')\n",
        "plt.ylabel('Mean Squared Error')\n",
        "plt.legend()\n",
        "plt.show()"
      ]
    },
    {
      "cell_type": "markdown",
      "metadata": {
        "id": "2sYVU9lQPxXD"
      },
      "source": [
        "ðŸ“¢ **<mark>On Moodle</mark>** ðŸ“¢\n",
        "\n",
        "Upload your scatter plot\n"
      ]
    },
    {
      "cell_type": "markdown",
      "metadata": {
        "id": "lR_v9mTWOVNj"
      },
      "source": [
        "## Task 2C (4 point)\n",
        "Finally, we investigate the influence of the polynomial degree on the results. Consider degrees in range(0, 11). Plot MSE (on training as well as test data) depending on the polynomial degree."
      ]
    },
    {
      "cell_type": "code",
      "execution_count": null,
      "metadata": {
        "id": "4YFTQqWZO_Jx"
      },
      "outputs": [],
      "source": [
        "# TODO\n",
        "\n",
        "degrees = range(1, 11)\n",
        "mse_train_values = []\n",
        "mse_test_values = []\n",
        "\n",
        "for degree in degrees:\n",
        "    poly_features = PolynomialFeatures(degree=degree)\n",
        "    X_train_poly = poly_features.fit_transform(X_train)\n",
        "    X_test_poly = poly_features.fit_transform(X_test)\n",
        "\n",
        "    poly_model = LinearRegression()\n",
        "    poly_model.fit(X_train_poly, y_train)\n",
        "\n",
        "    y_train_pred_poly = poly_model.predict(X_train_poly)\n",
        "    y_test_pred_poly = poly_model.predict(X_test_poly)\n",
        "\n",
        "    mse_train_poly = mean_squared_error(y_train, y_train_pred_poly)\n",
        "    mse_test_poly = mean_squared_error(y_test, y_test_pred_poly)\n",
        "\n",
        "    mse_train_values.append(mse_train_poly)\n",
        "    mse_test_values.append(mse_test_poly)\n",
        "\n",
        "plt.plot(degrees, mse_train_values, label='MSE Train')\n",
        "plt.plot(degrees, mse_test_values, label='MSE Test')\n",
        "plt.xlabel('Polynomial Degree')\n",
        "plt.ylabel('Mean Squared Error')\n",
        "plt.legend()\n",
        "plt.show()"
      ]
    },
    {
      "cell_type": "markdown",
      "metadata": {
        "id": "Y6QpfImYEI1l"
      },
      "source": [
        "ðŸ“¢ **<mark>On Moodle</mark>** ðŸ“¢\n",
        "\n",
        "* Upload your plot of MSE for training and test data\n",
        "\n",
        "* Answer the following three questions in a text:\n",
        "1. What is the optimal value of the polynomial degrees?\n",
        "2. Do the values of MSE training and MSE test behave similarly?\n",
        "3. What happens in the models with polynomial degrees >= 8?\n"
      ]
    },
    {
      "cell_type": "code",
      "execution_count": null,
      "metadata": {
        "id": "0BJrUzpkQc94",
        "vscode": {
          "languageId": "julia"
        }
      },
      "outputs": [],
      "source": [
        "# Define the range of polynomial degrees to investigate\n",
        "degrees = range(1, 11)\n",
        "\n",
        "# Initialize lists to store MSE values for training and test data\n",
        "mse_train_values = []\n",
        "mse_test_values = []\n",
        "\n",
        "# Loop over each degree\n",
        "for degree in degrees:\n",
        "    # Transform the data to include polynomial features of the current degree\n",
        "    poly_features = PolynomialFeatures(degree=degree)\n",
        "    X_train_poly = poly_features.fit_transform(X_train)\n",
        "    X_test_poly = poly_features.fit_transform(X_test)\n",
        "\n",
        "    # Create and train the polynomial regression model\n",
        "    poly_model = LinearRegression()\n",
        "    poly_model.fit(X_train_poly, y_train)\n",
        "\n",
        "    # Predict y values for training and test sets\n",
        "    y_train_pred_poly = poly_model.predict(X_train_poly)\n",
        "    y_test_pred_poly = poly_model.predict(X_test_poly)\n",
        "\n",
        "    # Calculate MSE for training and test data\n",
        "    mse_train_poly = mean_squared_error(y_train, y_train_pred_poly)\n",
        "    mse_test_poly = mean_squared_error(y_test, y_test_pred_poly)\n",
        "\n",
        "    # Append the MSE values to the lists\n",
        "    mse_train_values.append(mse_train_poly)\n",
        "    mse_test_values.append(mse_test_poly)\n",
        "\n",
        "# Plot the MSE values for training and test data\n",
        "plt.plot(degrees, mse_train_values, label='MSE Train')\n",
        "plt.plot(degrees, mse_test_values, label='MSE Test')\n",
        "plt.xlabel('Polynomial Degree')\n",
        "plt.ylabel('Mean Squared Error')\n",
        "plt.legend()\n",
        "plt.show()"
      ]
    }
  ],
  "metadata": {
    "colab": {
      "private_outputs": true,
      "provenance": []
    },
    "kernelspec": {
      "display_name": "Python 3",
      "name": "python3"
    },
    "language_info": {
      "codemirror_mode": {
        "name": "ipython",
        "version": 3
      },
      "file_extension": ".py",
      "mimetype": "text/x-python",
      "name": "python",
      "nbconvert_exporter": "python",
      "pygments_lexer": "ipython3",
      "version": "3.10.9"
    }
  },
  "nbformat": 4,
  "nbformat_minor": 0
}
